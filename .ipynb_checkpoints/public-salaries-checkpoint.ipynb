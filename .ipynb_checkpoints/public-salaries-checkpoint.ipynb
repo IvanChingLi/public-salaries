{
 "cells": [
  {
   "cell_type": "code",
   "execution_count": 1,
   "metadata": {
    "collapsed": true
   },
   "outputs": [],
   "source": [
    "import pandas as pd\n",
    "import numpy as np\n",
    "import matplotlib.pyplot as plt\n",
    "from collections import Counter"
   ]
  },
  {
   "cell_type": "markdown",
   "metadata": {},
   "source": [
    "## Public Salaries by Counties\n",
    "\n",
    "Make all county names hyphenated and lowercase, and without the word \"county.\""
   ]
  },
  {
   "cell_type": "code",
   "execution_count": 2,
   "metadata": {
    "collapsed": true
   },
   "outputs": [],
   "source": [
    "def hyphenate(name):\n",
    "    res = name.lower().split()\n",
    "    if res[-1]=='county':\n",
    "        res.pop()\n",
    "    res = '-'.join(res)\n",
    "    return res\n",
    "\n",
    "import locale\n",
    "locale.setlocale(locale.LC_ALL, 'en_US.UTF-8')\n",
    "def clean(x):\n",
    "    try:\n",
    "        return locale.atof(x)/1000 #thousands of dollars\n",
    "    except AttributeError:\n",
    "        return float(x)/1000\n",
    "    except ValueError:\n",
    "        print('setting {} (type {})to 0'.format(x, type(x)))\n",
    "        return 0.0\n",
    "def drop_PT(df):\n",
    "    res = df.loc[df['Base Pay']!=0.0]\n",
    "    def notPT(x):\n",
    "        try:\n",
    "            return x!='PT'\n",
    "        except Error:\n",
    "            return True\n",
    "    res = res.loc[res['Status'].map(notPT)]\n",
    "    return res"
   ]
  },
  {
   "cell_type": "code",
   "execution_count": 3,
   "metadata": {
    "scrolled": true
   },
   "outputs": [
    {
     "name": "stdout",
     "output_type": "stream",
     "text": [
      "Dropped 2938 part-time employees.\n",
      "Dropped 64 part-time employees.\n",
      "Dropped 126 part-time employees.\n",
      "Dropped 7 part-time employees.\n",
      "setting Not Provided (type <class 'str'>)to 0\n",
      "setting Not Provided (type <class 'str'>)to 0\n",
      "setting Not Provided (type <class 'str'>)to 0\n",
      "setting Not Provided (type <class 'str'>)to 0\n",
      "setting Not Provided (type <class 'str'>)to 0\n",
      "setting Not Provided (type <class 'str'>)to 0\n",
      "setting Not Provided (type <class 'str'>)to 0\n",
      "Dropped 142 part-time employees.\n",
      "Dropped 220 part-time employees.\n",
      "Dropped 155 part-time employees.\n",
      "Dropped 726 part-time employees.\n",
      "Dropped 2159 part-time employees.\n",
      "Dropped 183 part-time employees.\n",
      "Dropped 882 part-time employees.\n",
      "Dropped 603 part-time employees.\n",
      "Dropped 201 part-time employees.\n",
      "Dropped 4238 part-time employees.\n",
      "Dropped 588 part-time employees.\n",
      "Dropped 504 part-time employees.\n",
      "setting Not Provided (type <class 'str'>)to 0\n",
      "setting Not Provided (type <class 'str'>)to 0\n",
      "setting Not Provided (type <class 'str'>)to 0\n",
      "setting Not Provided (type <class 'str'>)to 0\n",
      "Dropped 247 part-time employees.\n"
     ]
    },
    {
     "name": "stderr",
     "output_type": "stream",
     "text": [
      "/Users/ivan/anaconda3/lib/python3.6/site-packages/IPython/core/interactiveshell.py:2698: DtypeWarning: Columns (4) have mixed types. Specify dtype option on import or set low_memory=False.\n",
      "  interactivity=interactivity, compiler=compiler, result=result)\n"
     ]
    },
    {
     "name": "stdout",
     "output_type": "stream",
     "text": [
      "setting Aggregate (type <class 'str'>)to 0\n",
      "Dropped 1899 part-time employees.\n",
      "Dropped 0 part-time employees.\n",
      "Dropped 1397 part-time employees.\n",
      "Dropped 295 part-time employees.\n",
      "Dropped 611 part-time employees.\n",
      "Dropped 1591 part-time employees.\n",
      "Dropped 0 part-time employees.\n",
      "Dropped 110 part-time employees.\n",
      "Dropped 3160 part-time employees.\n",
      "Dropped 18 part-time employees.\n",
      "Dropped 376 part-time employees.\n",
      "Dropped 280 part-time employees.\n",
      "Dropped 38 part-time employees.\n",
      "Dropped 379 part-time employees.\n",
      "Dropped 6540 part-time employees.\n",
      "Dropped 3204 part-time employees.\n",
      "Dropped 311 part-time employees.\n",
      "Dropped 8229 part-time employees.\n",
      "Dropped 5642 part-time employees.\n",
      "Dropped 3235 part-time employees.\n",
      "Dropped 1125 part-time employees.\n",
      "Dropped 42 part-time employees.\n",
      "Dropped 2803 part-time employees.\n",
      "Dropped 6725 part-time employees.\n",
      "Dropped 1598 part-time employees.\n",
      "Dropped 861 part-time employees.\n",
      "Dropped 60 part-time employees.\n",
      "Dropped 341 part-time employees.\n",
      "Dropped 42 part-time employees.\n",
      "Dropped 2426 part-time employees.\n",
      "Dropped 948 part-time employees.\n",
      "Dropped 5 part-time employees.\n",
      "Dropped 377 part-time employees.\n",
      "Dropped 137 part-time employees.\n",
      "Dropped 91 part-time employees.\n",
      "Dropped 404 part-time employees.\n",
      "Dropped 2910 part-time employees.\n",
      "Dropped 629 part-time employees.\n",
      "Dropped 324 part-time employees.\n",
      "               Employee Name             Job Title  Base Pay  Overtime Pay  \\\n",
      "0  Susan Shirasawa Muranishi  County Administrator  326.4848       0.00000   \n",
      "1        Gregory James Ahern               Sheriff  237.5400       0.00000   \n",
      "2           Nancy E O'Malley     District Attorney  284.6672       0.00000   \n",
      "3             Steven Manning    Auditor-Controller  199.8720       0.00000   \n",
      "4           Rocky L Medeiros    Division Commander  202.2120       9.03474   \n",
      "\n",
      "   Other Pay   Benefits  Total Pay  Total Pay & Benefits  Year  Notes  \\\n",
      "0  172.43473  242.04596  498.91953             740.96549  2016    NaN   \n",
      "1   74.87248  321.44521  312.41248             633.85769  2016    NaN   \n",
      "2   27.32803  163.63730  311.99523             475.63253  2016    NaN   \n",
      "3  104.15127  170.55322  304.02327             474.57649  2016    NaN   \n",
      "4   56.26488  188.23907  267.51162             455.75069  2016    NaN   \n",
      "\n",
      "    Agency Status  \n",
      "0  alameda     FT  \n",
      "1  alameda     FT  \n",
      "2  alameda     FT  \n",
      "3  alameda     FT  \n",
      "4  alameda     FT  \n",
      "number of counties represented:  56\n",
      "total number of entries:  302291\n"
     ]
    }
   ],
   "source": [
    "df_index = pd.read_csv('counties.csv')\n",
    "df_census = pd.read_csv('data/California_Median_Income_by_County.csv')\n",
    "\n",
    "df_index['Counties'] = df_index['Counties'].map(hyphenate)\n",
    "df_census['County'] = df_census['County'].map(hyphenate)\n",
    "\n",
    "for attr in ['Median Income']:\n",
    "    df_census[attr] = df_census[attr].map(clean)\n",
    "    \n",
    "attrs = ['Base Pay','Overtime Pay', 'Other Pay', 'Benefits', 'Total Pay', 'Total Pay & Benefits']\n",
    "\n",
    "dfs=[]\n",
    "\n",
    "for county in df_index['Counties']:\n",
    "    try:\n",
    "        x = pd.read_csv('data/{}-county-2016.csv'.format(county))\n",
    "        x['Agency'] = x['Agency'].map(hyphenate)\n",
    "        for attr in attrs:\n",
    "            x[attr] = x[attr].map(clean)\n",
    "        old_len = len(x)\n",
    "        x = drop_PT(x)\n",
    "        print('Dropped {} part-time employees.'.format(old_len-len(x)))\n",
    "        dfs.append(x)\n",
    "    except FileNotFoundError:\n",
    "        continue\n",
    "\n",
    "print(dfs[0][:5])\n",
    "print('number of counties represented: ',len(dfs))\n",
    "print('total number of entries: ',sum([len(df) for df in dfs]))"
   ]
  },
  {
   "cell_type": "code",
   "execution_count": 4,
   "metadata": {},
   "outputs": [
    {
     "data": {
      "image/png": "[encoded data removed]",
      "text/plain": [
       "<matplotlib.figure.Figure at 0x10ef05c50>"
      ]
     },
     "metadata": {},
     "output_type": "display_data"
    }
   ],
   "source": [
    "salary_to_plot = [df['Total Pay'].as_matrix() for df in dfs]\n",
    "salary_to_plot = np.concatenate(salary_to_plot)\n",
    "n, bins, patches = plt.hist(salary_to_plot, 50, log=False)\n",
    "plt.title('Salaries for all California Public Employees in 2016')\n",
    "plt.xlabel('Income (in thousands)')\n",
    "plt.show()"
   ]
  },
  {
   "cell_type": "markdown",
   "metadata": {
    "collapsed": true
   },
   "source": [
    "### Do public employees get paid less than private employees?\n",
    "\n",
    "Average obtained from Census data.\n",
    "\n",
    "Hypothesis: Public employees get paid less.\n",
    "\n",
    "Method: Obtain median from Census data. Calculate multiple of median (e.g. making twice median). Plot aggregately for all counties.\n",
    "\n",
    "Results: Majority of county employee individual incomes exceed median HOUSEHOLD income in the same county."
   ]
  },
  {
   "cell_type": "code",
   "execution_count": 5,
   "metadata": {},
   "outputs": [
    {
     "data": {
      "image/png": "[encoded data removed]",
      "text/plain": [
       "<matplotlib.figure.Figure at 0x1a13cb46a0>"
      ]
     },
     "metadata": {},
     "output_type": "display_data"
    }
   ],
   "source": [
    "for df in dfs:\n",
    "    county = df['Agency'].as_matrix()[0]\n",
    "    census_median = df_census.loc[df_census['County'] == county]['Median Income'].as_matrix()[0]\n",
    "    df['Frac Median'] = df['Total Pay'].map(lambda x: x/census_median)\n",
    "frac_to_plot = [df['Frac Median'].as_matrix() for df in dfs]\n",
    "frac_to_plot = np.concatenate(frac_to_plot)\n",
    "\n",
    "ranges = [(0,frac_to_plot.max())]\n",
    "for range in ranges:\n",
    "    n, bins, patches = plt.hist(frac_to_plot, 50, log=False, range=range)\n",
    "    plt.title('Relative Salaries for all California Public Employees in 2016')\n",
    "    if range[0]<1 and 1<range[1]:\n",
    "        plt.axvline(x= 1, color='k')\n",
    "    plt.xlabel('Income as Fraction of Local Median Income (in thousands)')\n",
    "    plt.show()"
   ]
  },
  {
   "cell_type": "markdown",
   "metadata": {},
   "source": [
    "#### Detalied plot for each county"
   ]
  },
  {
   "cell_type": "code",
   "execution_count": 6,
   "metadata": {
    "collapsed": true
   },
   "outputs": [],
   "source": [
    "# for df in dfs:\n",
    "#     county = df['Agency'].as_matrix()[0]\n",
    "#     census_median = df_census.loc[df_census['County'] == county]['Median Income'].as_matrix()[0]\n",
    "#     x = df['Total Pay & Benefits'].as_matrix()\n",
    "#     n, bins, patches = plt.hist(x, 50, log=False)\n",
    "#     plt.axvline(x= census_median, color='k')\n",
    "#     plt.title('Salaries for {}'.format(county))\n",
    "#     plt.xlabel('County Employee Income (thousands)')\n",
    "#     plt.show()"
   ]
  },
  {
   "cell_type": "markdown",
   "metadata": {},
   "source": [
    "### Do public employees in highly-populated areas get paid more?\n",
    "\n",
    "Hypothesis: Yes; many people feel that DMVs in cities are stressful places to work.\n",
    "\n",
    "Result: Yes, but the median plateaus at around $95k.\n"
   ]
  },
  {
   "cell_type": "code",
   "execution_count": 6,
   "metadata": {},
   "outputs": [
    {
     "name": "stdout",
     "output_type": "stream",
     "text": [
      "    County  Pop_Den\n",
      "0  alameda   2043.6\n",
      "1   alpine      1.6\n",
      "2   amador     64.1\n"
     ]
    }
   ],
   "source": [
    "import locale\n",
    "locale.setlocale(locale.LC_ALL, 'en_US.UTF-8')\n",
    "\n",
    "df_popden = pd.read_csv('population_density.csv')\n",
    "df_popden['County'] = df_popden['County'].map(hyphenate)\n",
    "df_popden['Pop_Den'] = df_popden['Pop_Den'].map(locale.atof)\n",
    "print(df_popden[:3])"
   ]
  },
  {
   "cell_type": "code",
   "execution_count": 7,
   "metadata": {},
   "outputs": [
    {
     "data": {
      "image/png": "[encoded data removed]",
      "text/plain": [
       "<matplotlib.figure.Figure at 0x1a13cafeb8>"
      ]
     },
     "metadata": {},
     "output_type": "display_data"
    }
   ],
   "source": [
    "x = []\n",
    "y = []\n",
    "for df in dfs:\n",
    "    pop_den=df_popden.loc[df_popden['County']==df['Agency'].as_matrix()[0]]['Pop_Den'].as_matrix()[0]\n",
    "#     x.append(np.array([pop_den]*len(df)))\n",
    "#     y.append(df['Total Pay & Benefits'].as_matrix())\n",
    "    x.append([pop_den])\n",
    "    y.append([df['Total Pay'].median()])\n",
    "x = np.concatenate(x)\n",
    "y = np.concatenate(y)\n",
    "plt.scatter(x, y)\n",
    "plt.xlabel('Population density (per square mile)')\n",
    "plt.ylabel('Median Income (thousands of dollars)')\n",
    "plt.title('Median Income vs. Population Density for California Counties')\n",
    "plt.show()"
   ]
  },
  {
   "cell_type": "markdown",
   "metadata": {},
   "source": [
    "## UC vs. CSU: Read and clean data"
   ]
  },
  {
   "cell_type": "code",
   "execution_count": 9,
   "metadata": {
    "scrolled": true
   },
   "outputs": [
    {
     "name": "stderr",
     "output_type": "stream",
     "text": [
      "/Users/ivan/anaconda3/lib/python3.6/site-packages/IPython/core/interactiveshell.py:2698: DtypeWarning: Columns (3,4) have mixed types. Specify dtype option on import or set low_memory=False.\n",
      "  interactivity=interactivity, compiler=compiler, result=result)\n",
      "/Users/ivan/anaconda3/lib/python3.6/site-packages/IPython/core/interactiveshell.py:2698: DtypeWarning: Columns (2,3,4,5) have mixed types. Specify dtype option on import or set low_memory=False.\n",
      "  interactivity=interactivity, compiler=compiler, result=result)\n"
     ]
    },
    {
     "name": "stdout",
     "output_type": "stream",
     "text": [
      "setting Not Provided (type <class 'str'>)to 0\n",
      "setting Not Provided (type <class 'str'>)to 0\n",
      "setting Not Provided (type <class 'str'>)to 0\n",
      "setting Not Provided (type <class 'str'>)to 0\n",
      "setting Not Provided (type <class 'str'>)to 0\n",
      "setting Not Provided (type <class 'str'>)to 0\n",
      "setting Aggregate (type <class 'str'>)to 0\n",
      "setting Not Provided (type <class 'str'>)to 0\n",
      "setting Not Provided (type <class 'str'>)to 0\n",
      "setting Not Provided (type <class 'str'>)to 0\n",
      "setting Not Provided (type <class 'str'>)to 0\n",
      "setting Not Provided (type <class 'str'>)to 0\n",
      "setting Not Provided (type <class 'str'>)to 0\n",
      "setting Aggregate (type <class 'str'>)to 0\n",
      "setting Aggregate (type <class 'str'>)to 0\n",
      "setting Aggregate (type <class 'str'>)to 0\n",
      "setting Aggregate (type <class 'str'>)to 0\n",
      "setting Aggregate (type <class 'str'>)to 0\n",
      "setting Not Provided (type <class 'str'>)to 0\n",
      "setting Not Provided (type <class 'str'>)to 0\n",
      "setting Not Provided (type <class 'str'>)to 0\n",
      "setting Not Provided (type <class 'str'>)to 0\n",
      "setting Not Provided (type <class 'str'>)to 0\n",
      "setting Not Provided (type <class 'str'>)to 0\n",
      "setting Not Provided (type <class 'str'>)to 0\n",
      "setting Not Provided (type <class 'str'>)to 0\n",
      "setting Not Provided (type <class 'str'>)to 0\n",
      "setting Not Provided (type <class 'str'>)to 0\n",
      "setting Not Provided (type <class 'str'>)to 0\n",
      "setting Not Provided (type <class 'str'>)to 0\n",
      "           Employee Name                   Job Title  Base Pay  Overtime Pay  \\\n",
      "0   James Lawrence Mora   INTERCOL ATH HEAD COACH EX   300.000           0.0   \n",
      "1         Cuonzo Martin                 HEAD COACH 5   250.000           0.0   \n",
      "2          Daniel Dykes                 HEAD COACH 5   341.667           0.0   \n",
      "3   Stephen Todd Alford   INTERCOL ATH HEAD COACH EX   300.000           0.0   \n",
      "4     Gordon Alan Cohen          HS CLIN INSTR-HCOMP    42.350           0.0   \n",
      "\n",
      "   Other Pay  Benefits  Total Pay  Total Pay & Benefits  Year  Notes  \\\n",
      "0   3277.299    56.595   3577.299              3633.894  2016    NaN   \n",
      "1   2683.098    54.495   2933.098              2987.593  2016    NaN   \n",
      "2   2549.566    62.428   2891.233              2953.661  2016    NaN   \n",
      "3   2421.405    56.595   2721.405              2778.000  2016    NaN   \n",
      "4   2678.446    11.434   2720.796              2732.230  2016    NaN   \n",
      "\n",
      "                     Agency  Status  \n",
      "0  University of California     NaN  \n",
      "1  University of California     NaN  \n",
      "2  University of California     NaN  \n",
      "3  University of California     NaN  \n",
      "4  University of California     NaN  \n",
      "         Employee Name                                      Job Title  \\\n",
      "0      Timothy P White  CHANCELLOR OF THE CALIFORNIA STATE UNIVERSITY   \n",
      "1    Elliot L Hirshman                                      PRESIDENT   \n",
      "2  Jeffrey D Armstrong                                      PRESIDENT   \n",
      "3    Leroy M Morishita                                      PRESIDENT   \n",
      "4     William A Covino                                      PRESIDENT   \n",
      "\n",
      "    Base Pay  Overtime Pay  Other Pay   Benefits  Total Pay  \\\n",
      "0  400.54576           0.0   15.13971  127.26236  415.68547   \n",
      "1  369.07622           0.0   13.03200  119.36612  382.10822   \n",
      "2  369.11191           0.0   12.40701  113.91158  381.51892   \n",
      "3  316.32099           0.0   73.58400  100.30897  389.90499   \n",
      "4  315.27424           0.0   75.04800   99.03457  390.32224   \n",
      "\n",
      "   Total Pay & Benefits  Year  Notes                       Agency  Status  \n",
      "0             542.94783  2016    NaN  California State University     NaN  \n",
      "1             501.47434  2016    NaN  California State University     NaN  \n",
      "2             495.43050  2016    NaN  California State University     NaN  \n",
      "3             490.21396  2016    NaN  California State University     NaN  \n",
      "4             489.35681  2016    NaN  California State University     NaN  \n"
     ]
    }
   ],
   "source": [
    "df_uc = pd.read_csv(\"data/university-of-california-2016.csv\")\n",
    "df_csu = pd.read_csv(\"data/california-state-university-2016.csv\")\n",
    "dfs=[df_uc, df_csu]\n",
    "\n",
    "attrs = ['Base Pay','Overtime Pay', 'Other Pay', 'Benefits', 'Total Pay', 'Total Pay & Benefits']\n",
    "\n",
    "for attr in attrs:\n",
    "    for df in dfs:\n",
    "        df[attr] = df[attr].map(clean)\n",
    "        \n",
    "dfs = [drop_PT(dfs[0]), drop_PT(dfs[1])]\n",
    "\n",
    "print(df_uc[:5])\n",
    "print(df_csu[:5])"
   ]
  },
  {
   "cell_type": "markdown",
   "metadata": {},
   "source": [
    "### Who pays better on average?\n",
    "\n",
    "Result: UC"
   ]
  },
  {
   "cell_type": "code",
   "execution_count": 10,
   "metadata": {
    "scrolled": true
   },
   "outputs": [
    {
     "data": {
      "image/png": "[encoded data removed]",
      "text/plain": [
       "<matplotlib.figure.Figure at 0x1a217ad128>"
      ]
     },
     "metadata": {},
     "output_type": "display_data"
    },
    {
     "data": {
      "image/png": "[encoded data removed]",
      "text/plain": [
       "<matplotlib.figure.Figure at 0x1a19587e10>"
      ]
     },
     "metadata": {},
     "output_type": "display_data"
    },
    {
     "data": {
      "image/png": "[encoded data removed]",
      "text/plain": [
       "<matplotlib.figure.Figure at 0x1a18d62b38>"
      ]
     },
     "metadata": {},
     "output_type": "display_data"
    },
    {
     "data": {
      "image/png": "[encoded data removed]",
      "text/plain": [
       "<matplotlib.figure.Figure at 0x1a195b02e8>"
      ]
     },
     "metadata": {},
     "output_type": "display_data"
    }
   ],
   "source": [
    "attr = 'Total Pay & Benefits'\n",
    "\n",
    "x_max = max(dfs[0][attr].max(), dfs[1][attr].max())\n",
    "divide = 1000 #7 figures\n",
    "for range in [(0,divide), (divide, x_max)]:\n",
    "    for df in dfs:\n",
    "        x = df[attr]\n",
    "        n, bins, patches = plt.hist(x, 50, range = range, log=False)\n",
    "        plt.title(attr)\n",
    "        plt.show()"
   ]
  },
  {
   "cell_type": "markdown",
   "metadata": {},
   "source": [
    "### Who pays better for 10 most common job titles?\n",
    "\n",
    "Result: hard to disaggregate data because \"Job Title\" doesn't line up"
   ]
  },
  {
   "cell_type": "code",
   "execution_count": 11,
   "metadata": {
    "scrolled": true
   },
   "outputs": [
    {
     "name": "stdout",
     "output_type": "stream",
     "text": [
      "278616\n",
      "3253\n",
      "2.832090283864874\n",
      "nan\n",
      "('STDT 2', 14831) CSU nan\n",
      "3.6075338285041862\n",
      "nan\n",
      "('STDT 4', 13598) CSU nan\n",
      "13.150618363244472\n",
      "nan\n",
      "('TEACHG ASST-GSHIP', 13429) CSU nan\n",
      "2.6730274777499456\n",
      "nan\n",
      "('STDT 1', 11573) CSU nan\n",
      "3.614169387208984\n",
      "nan\n",
      "('STDT 3', 11211) CSU nan\n",
      "130.41224106851996\n",
      "nan\n",
      "('CLIN NURSE 2', 9209) CSU nan\n",
      "39.07559600429082\n",
      "nan\n",
      "('POSTDOC-EMPLOYEE', 7458) CSU nan\n",
      "57.39537961307113\n",
      "nan\n",
      "('BLANK AST 3', 6151) CSU nan\n",
      "19.9747893081761\n",
      "nan\n",
      "('GSR-FULL FEE REM', 4134) CSU nan\n",
      "16.41529597197903\n",
      "nan\n",
      "('GSR-PARTIAL FEE REM', 3426) CSU nan\n"
     ]
    }
   ],
   "source": [
    "from collections import Counter\n",
    "\n",
    "count = Counter(dfs[0]['Job Title'])\n",
    "print(len(dfs[0]['Job Title']))\n",
    "print(len(count))\n",
    "common = count.most_common(10)\n",
    "for job in common:\n",
    "    mean0 = dfs[0].loc[dfs[0]['Job Title'] == job[0]]['Total Pay & Benefits'].mean()\n",
    "    print(mean0)\n",
    "    mean1 = dfs[1].loc[dfs[1]['Job Title'] == job[0]]['Total Pay & Benefits'].mean()\n",
    "    print(mean1)\n",
    "    print(job, \"UC\", (mean0-mean1)/np.mean(mean0+mean1)) if mean0>mean1 else print(job, \"CSU\", (mean1-mean0)/np.mean(mean0+mean1))\n",
    "          "
   ]
  },
  {
   "cell_type": "markdown",
   "metadata": {},
   "source": [
    "EDA: What are majority of job titles?\n",
    "\n",
    "Result: work study, TAs, profs"
   ]
  },
  {
   "cell_type": "code",
   "execution_count": 12,
   "metadata": {},
   "outputs": [
    {
     "name": "stdout",
     "output_type": "stream",
     "text": [
      "total: 278616\n",
      "frac 10 most common: 0.34104286903838976\n",
      "frac 20 most common: 0.4250545553737043\n",
      "frac 30 most common: 0.48015548281505727\n",
      "[('STDT 2', 14831), ('STDT 4', 13598), ('TEACHG ASST-GSHIP', 13429), ('STDT 1', 11573), ('STDT 3', 11211), ('CLIN NURSE 2', 9209), ('POSTDOC-EMPLOYEE', 7458), ('BLANK AST 3', 6151), ('GSR-FULL FEE REM', 4134), ('GSR-PARTIAL FEE REM', 3426)]\n",
      "total: 62816\n",
      "frac 10 most common: 0.7037060621497707\n",
      "frac 20 most common: 0.8006399643402955\n",
      "frac 30 most common: 0.8430017829852267\n",
      "[('LECTURER - ACADEMIC YEAR', 19032), ('INSTRUCTIONAL FACULTY - ACADEMIC YEAR', 10117), ('ADMINISTRATIVE ANALYST/SPECIALIST -12 MONTH', 3097), ('ADMINISTRATIVE SUPPORT COORDINATOR -12 MONTH', 2979), ('ADMINISTRATOR II', 1933), ('CUSTODIAN', 1568), ('ADMINISTRATIVE SUPPORT ASSISTANT -12 MONTH', 1538), ('CASUAL WORKER', 1352), ('STUDENT SERVICES PROFESSIONAL II', 1309), ('INFORMATION TECHNOLOGY CONSULTANT -12', 1279)]\n"
     ]
    }
   ],
   "source": [
    "for df in dfs:\n",
    "    count = Counter(df['Job Title'])\n",
    "    print('total:',len(df))\n",
    "    print('frac 10 most common:', np.sum([x[1] for x in count.most_common(10)])/len(df))\n",
    "    print('frac 20 most common:', np.sum([x[1] for x in count.most_common(20)])/len(df))\n",
    "    print('frac 30 most common:', np.sum([x[1] for x in count.most_common(30)])/len(df))\n",
    "    print(count.most_common(10))"
   ]
  },
  {
   "cell_type": "markdown",
   "metadata": {},
   "source": [
    "Who works the most overtime?\n",
    "\n",
    "Result: Nurse and Custodian"
   ]
  },
  {
   "cell_type": "code",
   "execution_count": 13,
   "metadata": {},
   "outputs": [
    {
     "name": "stdout",
     "output_type": "stream",
     "text": [
      "CLIN NURSE 2 5.016988380931728\n",
      "CUSTODIAN 0.6639277614795919\n"
     ]
    }
   ],
   "source": [
    "attr = 'Overtime Pay'\n",
    "\n",
    "for df in dfs:\n",
    "    d = {}\n",
    "    common = Counter(df['Job Title']).most_common(10)\n",
    "    for job in common:\n",
    "        d[job[0]] = df.loc[df['Job Title'] == job[0]][attr].mean()\n",
    "    res = max(d, key=lambda key: d[key])\n",
    "    print(res, d[res])"
   ]
  },
  {
   "cell_type": "code",
   "execution_count": null,
   "metadata": {
    "collapsed": true
   },
   "outputs": [],
   "source": []
  }
 ],
 "metadata": {
  "kernelspec": {
   "display_name": "Python 3",
   "language": "python",
   "name": "python3"
  },
  "language_info": {
   "codemirror_mode": {
    "name": "ipython",
    "version": 3
   },
   "file_extension": ".py",
   "mimetype": "text/x-python",
   "name": "python",
   "nbconvert_exporter": "python",
   "pygments_lexer": "ipython3",
   "version": "3.6.3"
  }
 },
 "nbformat": 4,
 "nbformat_minor": 2
}
